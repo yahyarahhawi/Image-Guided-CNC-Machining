{
 "cells": [
  {
   "cell_type": "code",
   "execution_count": 21,
   "id": "f7ceadaf-3564-4c51-9260-09d4efd6f462",
   "metadata": {
    "tags": []
   },
   "outputs": [],
   "source": [
    "import skimage.io as skio\n",
    "import matplotlib.pyplot as plt\n",
    "import numpy as np\n",
    "import skimage\n",
    "import ipywidgets as wdg\n",
    "import cv2\n",
    "from skimage.morphology import disk\n"
   ]
  },
  {
   "cell_type": "code",
   "execution_count": 84,
   "id": "b50622dd-64d5-4b2b-8812-c3513371e8db",
   "metadata": {
    "tags": []
   },
   "outputs": [],
   "source": [
    "img_base = skio.imread(\"base_1.jpg\")\n",
    "ex1 = skio.imread(\"ex2.jpg\")\n"
   ]
  },
  {
   "cell_type": "code",
   "execution_count": 61,
   "id": "ffb10778-5069-4e74-83f2-349185e374ab",
   "metadata": {
    "tags": []
   },
   "outputs": [],
   "source": [
    "def compare(img_base, ex1,threshold = 170):\n",
    "    \"\"\"\n",
    "    performs an intersection over union between two images and returns a visualization of the operation and the value of IOU\n",
    "    \"\"\"\n",
    "    #final canvas that will display result\n",
    "    canvas = np.zeros_like(img_base)\n",
    "    \n",
    "    #using blue channel since it gives best separation between LED light in background and part\n",
    "    img_base = img_base[:, :, 2]\n",
    "    ex1 = ex1[:, :, 2]\n",
    "    \n",
    "    base_T = 255 - ((img_base > threshold) * 255)\n",
    "    ex1_T = 255 - ((ex1 > threshold) * 255)\n",
    "    \n",
    "    #creates a crop window where operation will occur in\n",
    "    window = np.zeros_like(base_T)\n",
    "    window[50:450,400 :800] = 1\n",
    "    base_T = window * base_T\n",
    "    ex1_T = window * ex1_T\n",
    "    \n",
    "    #populates canvas with RGB values of IOT\n",
    "    canvas[:, :, 1] = base_T\n",
    "    canvas[:, :, 2] = base_T\n",
    "    canvas[:, :, 0] = ex1_T\n",
    "    \n",
    "    #Using thresholding \n",
    "    slicable = (skimage.color.rgb2gray(canvas) * 255).astype(np.uint8)\n",
    "    more = slicable == 54\n",
    "    less = slicable == 200\n",
    "    \n",
    "    #calculating union\n",
    "    b = np.sum(np.logical_or(base_T, more))\n",
    "    a = np.sum(base_T > 0)\n",
    "    accuracy = a / b\n",
    "    return canvas, accuracy"
   ]
  },
  {
   "cell_type": "code",
   "execution_count": 62,
   "id": "69538cce-de8c-40e6-bf60-cd61263fd036",
   "metadata": {},
   "outputs": [
    {
     "data": {
      "text/plain": [
       "<matplotlib.image.AxesImage at 0x15b09f33c90>"
      ]
     },
     "execution_count": 62,
     "metadata": {},
     "output_type": "execute_result"
    },
    {
     "data": {
      "image/png": "[encoded data removed]",
      "text/plain": [
       "<Figure size 640x480 with 1 Axes>"
      ]
     },
     "metadata": {},
     "output_type": "display_data"
    }
   ],
   "source": [
    "skio.imshow(compare(img_base,ex1)[0])"
   ]
  },
  {
   "cell_type": "code",
   "execution_count": 118,
   "id": "1ba0c2bd-82a9-415b-97bd-6ef60eff220e",
   "metadata": {
    "tags": []
   },
   "outputs": [],
   "source": [
    "\n",
    "def compare_edges(img_base, ex1, threshold = 0.05):\n",
    "    \"\"\"\n",
    "    Takes two images as input, one is img_base: reference part, and other is ex1: measured part. returns final visualization of  flaws detected\n",
    "    along with percentage of flaws.\n",
    "    \"\"\"\n",
    "    \n",
    "    def canny(base,sigma = 2):\n",
    "        \"\"\"\n",
    "        returns a dilated canny edge detection of base\n",
    "        \"\"\"\n",
    "        canny_edges = skimage.feature.canny(base, sigma = sigma)\n",
    "        eroded = skimage.morphology.dilation(canny_edges,disk(8))\n",
    "        return eroded\n",
    "    \n",
    "    def find_edges(image):\n",
    "        \"\"\"\n",
    "        normalizes an image and performs farid edge detection\n",
    "        \"\"\"\n",
    "        gray = (image * 255).astype(np.uint8)\n",
    "        mask = gray < 150\n",
    "        gray = skimage.exposure.equalize_hist(gray)\n",
    "        gray = gray * mask\n",
    "        gray = skimage.exposure.adjust_gamma(gray, 2.6, 5)\n",
    "        gray = skimage.filters.median(gray, disk(2))\n",
    "        edges = skimage.filters.farid(gray) > threshold\n",
    "        return edges\n",
    "    \n",
    "    #converts images to grayscale if needed.\n",
    "    if img_base.shape[-1] == 3:\n",
    "            img_base = skimage.color.rgb2gray(img_base)\n",
    "            ex1 = skimage.color.rgb2gray(ex1)\n",
    "    \n",
    "    #creates cropping window\n",
    "    window = np.zeros_like(img_base)\n",
    "    window[50:450,400 :800] = 1\n",
    "    \n",
    "    img_base = (canny(img_base) * 255) * window\n",
    "    ex1 = (find_edges(ex1) * 255) * window\n",
    "\n",
    "    #subtracts major edges in base using canny from the fraid edges found in ex1\n",
    "    final = np.clip(ex1 - img_base, a_min=0, a_max=255) > 0\n",
    "    total = np.sum(img_base < 150)\n",
    "    numerator = np.sum(final)\n",
    "    if total > 0:\n",
    "        flaws_detected = numerator / total\n",
    "    else:\n",
    "        flaws_detected = 0  # Avoid division by zero\n",
    "    return final, flaws_detected"
   ]
  },
  {
   "cell_type": "code",
   "execution_count": 119,
   "id": "1d9fa95b-f543-4288-a8d9-d8cabe86a3d7",
   "metadata": {
    "tags": []
   },
   "outputs": [],
   "source": [
    "edges_detected, flaws_percentage = compare_edges(img_base,ex1)\n"
   ]
  },
  {
   "cell_type": "code",
   "execution_count": 121,
   "id": "6bc87947-17f3-493b-a1de-8cb5cf7d06ce",
   "metadata": {
    "tags": []
   },
   "outputs": [
    {
     "name": "stdout",
     "output_type": "stream",
     "text": [
      "0.2902174694762698 %\n"
     ]
    },
    {
     "data": {
      "image/png": "[encoded data removed]",
      "text/plain": [
       "<Figure size 640x480 with 1 Axes>"
      ]
     },
     "metadata": {},
     "output_type": "display_data"
    }
   ],
   "source": [
    "skio.imshow(edges_detected)\n",
    "print(flaws_percentage*100,\"%\")"
   ]
  },
  {
   "cell_type": "code",
   "execution_count": null,
   "id": "5d5e88d9-7e9f-4378-acee-3663225205f6",
   "metadata": {},
   "outputs": [],
   "source": []
  }
 ],
 "metadata": {
  "kernelspec": {
   "display_name": "Python 3 (ipykernel)",
   "language": "python",
   "name": "python3"
  },
  "language_info": {
   "codemirror_mode": {
    "name": "ipython",
    "version": 3
   },
   "file_extension": ".py",
   "mimetype": "text/x-python",
   "name": "python",
   "nbconvert_exporter": "python",
   "pygments_lexer": "ipython3",
   "version": "3.11.5"
  }
 },
 "nbformat": 4,
 "nbformat_minor": 5
}
